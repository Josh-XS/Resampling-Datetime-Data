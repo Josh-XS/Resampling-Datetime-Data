{
 "cells": [
  {
   "cell_type": "markdown",
   "id": "d69088ca",
   "metadata": {},
   "source": [
    "# Imports"
   ]
  },
  {
   "cell_type": "code",
   "execution_count": null,
   "id": "87b1b160",
   "metadata": {},
   "outputs": [],
   "source": [
    "import pandas as pd\n",
    "import numpy as np\n",
    "import matplotlib.pyplot as plt\n",
    "import matplotlib.ticker as mticks\n",
    "import matplotlib.dates as mdates\n",
    "import seaborn as sns"
   ]
  },
  {
   "cell_type": "markdown",
   "id": "2aab5c19",
   "metadata": {},
   "source": [
    "# Loading the Data"
   ]
  },
  {
   "cell_type": "code",
   "execution_count": null,
   "id": "6b9ef108",
   "metadata": {},
   "outputs": [],
   "source": [
    "df = pd.read_csv('Data/london_weather_MODIFIED - london_weather_MODIFIED')\n",
    "df.info()\n",
    "df.head()"
   ]
  },
  {
   "cell_type": "code",
   "execution_count": null,
   "id": "ac0dbdf9",
   "metadata": {},
   "outputs": [],
   "source": [
    "df['datetime'] = pd.to_datetime(df['date'], format = \"%Y%m%d\")"
   ]
  },
  {
   "cell_type": "code",
   "execution_count": null,
   "id": "ecc10081",
   "metadata": {},
   "outputs": [],
   "source": [
    "df = df.set_index('datetime')\n",
    "df"
   ]
  },
  {
   "cell_type": "code",
   "execution_count": null,
   "id": "89c9ecd9",
   "metadata": {},
   "outputs": [],
   "source": [
    "df = df.loc['2000':'2020']\n",
    "df"
   ]
  },
  {
   "cell_type": "code",
   "execution_count": null,
   "id": "68d35ff6",
   "metadata": {},
   "outputs": [],
   "source": [
    "df = df.drop(columns=['date','cloud_cover','sunshine','global_radiation','pressure'])\n",
    "df.head()"
   ]
  },
  {
   "cell_type": "markdown",
   "id": "8a6d5ca7",
   "metadata": {},
   "source": [
    "# Question 1"
   ]
  },
  {
   "cell_type": "code",
   "execution_count": null,
   "id": "d0684c27",
   "metadata": {},
   "outputs": [],
   "source": [
    "q1df = df.asfreq('M')\n",
    "q1df"
   ]
  },
  {
   "cell_type": "code",
   "execution_count": null,
   "id": "ab3f9c0c",
   "metadata": {},
   "outputs": [],
   "source": [
    "max_precipitation_date = df['precipitation'].idxmax()"
   ]
  },
  {
   "cell_type": "code",
   "execution_count": null,
   "id": "ce8b75a3",
   "metadata": {},
   "outputs": [],
   "source": []
  },
  {
   "cell_type": "code",
   "execution_count": null,
   "id": "a5cbbb24",
   "metadata": {},
   "outputs": [],
   "source": [
    "fig, ax = plt.subplots(figsize=(12,3))\n",
    "df.plot(ax=ax,title='Precipitation for 2000-2010')\n",
    "# xticks, xlabels\n",
    "ax.set_xticks(ax.get_xticks())\n",
    "ax.set_xticklabels(ax.get_xticklabels(), fontsize='large',fontweight='bold' )\n",
    "# ylabels\n",
    "ax.set_ylabel\n",
    "# minor ticks\n",
    "\n",
    "# major ticks\n",
    "\n",
    "\n"
   ]
  }
 ],
 "metadata": {
  "kernelspec": {
   "display_name": "Python (dojo-env)",
   "language": "python",
   "name": "dojo-env"
  },
  "language_info": {
   "codemirror_mode": {
    "name": "ipython",
    "version": 3
   },
   "file_extension": ".py",
   "mimetype": "text/x-python",
   "name": "python",
   "nbconvert_exporter": "python",
   "pygments_lexer": "ipython3",
   "version": "3.9.15"
  },
  "toc": {
   "base_numbering": 1,
   "nav_menu": {},
   "number_sections": false,
   "sideBar": true,
   "skip_h1_title": false,
   "title_cell": "Table of Contents",
   "title_sidebar": "Contents",
   "toc_cell": false,
   "toc_position": {},
   "toc_section_display": true,
   "toc_window_display": false
  }
 },
 "nbformat": 4,
 "nbformat_minor": 5
}
